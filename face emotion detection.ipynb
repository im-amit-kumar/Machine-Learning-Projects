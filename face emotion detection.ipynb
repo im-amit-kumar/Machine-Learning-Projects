{
 "cells": [
  {
   "cell_type": "code",
   "execution_count": 2,
   "metadata": {},
   "outputs": [],
   "source": [
    "import pandas as pd\n",
    "import numpy as np\n",
    "import progressbar"
   ]
  },
  {
   "cell_type": "code",
   "execution_count": 3,
   "metadata": {},
   "outputs": [],
   "source": [
    "df = pd.read_csv(\"fer2013.csv\")"
   ]
  },
  {
   "cell_type": "code",
   "execution_count": 4,
   "metadata": {},
   "outputs": [
    {
     "data": {
      "text/plain": [
       "(35887, 3)"
      ]
     },
     "execution_count": 4,
     "metadata": {},
     "output_type": "execute_result"
    }
   ],
   "source": [
    "df.shape"
   ]
  },
  {
   "cell_type": "code",
   "execution_count": 5,
   "metadata": {},
   "outputs": [],
   "source": [
    "f = open(\"fer2013.csv\")"
   ]
  },
  {
   "cell_type": "code",
   "execution_count": 6,
   "metadata": {},
   "outputs": [
    {
     "data": {
      "text/plain": [
       "'emotion,pixels,Usage\\n'"
      ]
     },
     "execution_count": 6,
     "metadata": {},
     "output_type": "execute_result"
    }
   ],
   "source": [
    "f.__next__()"
   ]
  },
  {
   "cell_type": "code",
   "execution_count": 7,
   "metadata": {},
   "outputs": [],
   "source": [
    "trainImage , trainLabels=[],[]"
   ]
  },
  {
   "cell_type": "code",
   "execution_count": 8,
   "metadata": {},
   "outputs": [],
   "source": [
    "valImage, valLabels = [] ,[]"
   ]
  },
  {
   "cell_type": "code",
   "execution_count": 9,
   "metadata": {},
   "outputs": [],
   "source": [
    "testImage , testLabels = [] ,[]"
   ]
  },
  {
   "cell_type": "code",
   "execution_count": 10,
   "metadata": {},
   "outputs": [
    {
     "name": "stderr",
     "output_type": "stream",
     "text": [
      "Image Processing100% |##########################################| Time: 0:00:17\n"
     ]
    }
   ],
   "source": [
    "widgets = [\"Image Processing\" , progressbar.Percentage(),\" \", progressbar.Bar(), \" \" , progressbar.ETA()]\n",
    "pbar = progressbar.ProgressBar(maxval= 35887 , widgets = widgets).start()\n",
    "\n",
    "for n ,i in enumerate(f):\n",
    "    lable , image , uses = i.strip().split(\",\")\n",
    "    image = np.array(image.split(\" \"),dtype = \"uint8\")\n",
    "    image = image.reshape((48,48,1))\n",
    "    if uses == \"Training\":\n",
    "        trainImage.append(image)\n",
    "        trainLabels.append(lable)\n",
    "    elif uses == \"PrivateTest\":\n",
    "        valImage.append(image)\n",
    "        valLabels.append(lable)\n",
    "    else:\n",
    "        testImage.append(image)\n",
    "        testLabels.append(lable)\n",
    "    pbar.update(n)\n",
    "pbar.finish()\n",
    "\n",
    "\n",
    "        "
   ]
  },
  {
   "cell_type": "code",
   "execution_count": 11,
   "metadata": {},
   "outputs": [],
   "source": [
    "trainImage = np.array(trainImage)\n",
    "valImage = np.array(valImage)\n",
    "testImage = np.array(testImage)"
   ]
  },
  {
   "cell_type": "code",
   "execution_count": 18,
   "metadata": {},
   "outputs": [],
   "source": [
    "from tensorflow.keras.models import Sequential\n",
    "from tensorflow.keras.layers import Conv2D , MaxPooling2D , Flatten , Dense , Dropout\n",
    "\n",
    "import warnings\n",
    "warnings.filterwarnings('ignore')"
   ]
  },
  {
   "cell_type": "code",
   "execution_count": 19,
   "metadata": {},
   "outputs": [],
   "source": [
    "from tensorflow.keras.preprocessing.image import img_to_array , load_img , ImageDataGenerator"
   ]
  },
  {
   "cell_type": "code",
   "execution_count": 20,
   "metadata": {},
   "outputs": [],
   "source": [
    "from sklearn.model_selection import train_test_split\n",
    "from tensorflow.keras.utils import to_categorical\n",
    "from imutils import paths\n",
    "import numpy as np\n",
    "import cv2\n",
    "import os\n",
    "import progressbar"
   ]
  },
  {
   "cell_type": "code",
   "execution_count": 21,
   "metadata": {},
   "outputs": [],
   "source": [
    "def LeNet(width , height , depth , classes):\n",
    "    model = Sequential()\n",
    "    \n",
    "    model.add(Conv2D(20, (5,5) , activation = \"relu\" , input_shape = (width, height , depth)))\n",
    "    model.add(MaxPooling2D(pool_size = (2,2) , strides = (2,2)))\n",
    "    \n",
    "    model.add(Conv2D(50, (5,5), activation = \"relu\"))\n",
    "    model.add(MaxPooling2D(pool_size = (2,2), strides = (2,2)))\n",
    "    \n",
    "    model.add(Flatten())\n",
    "    model.add(Dense(classes , activation = \"softmax\"))\n",
    "    return model"
   ]
  },
  {
   "cell_type": "code",
   "execution_count": 22,
   "metadata": {},
   "outputs": [],
   "source": [
    "augmentation = ImageDataGenerator(rotation_range=30 ,width_shift_range=0.1, height_shift_range=0.1 , zoom_range=0.2 , horizontal_flip=True , fill_mode=\"nearest\")"
   ]
  },
  {
   "cell_type": "code",
   "execution_count": 23,
   "metadata": {},
   "outputs": [],
   "source": [
    "from sklearn.preprocessing import LabelBinarizer\n",
    "\n",
    "trainLabels = LabelBinarizer().fit_transform(trainLabels)\n",
    "valLabels = LabelBinarizer().fit_transform(valLabels)\n",
    "testLabels = LabelBinarizer().fit_transform(testLabels)"
   ]
  },
  {
   "cell_type": "code",
   "execution_count": 24,
   "metadata": {},
   "outputs": [
    {
     "name": "stdout",
     "output_type": "stream",
     "text": [
      "WARNING:tensorflow:From E:\\anaconda3\\lib\\site-packages\\tensorflow\\python\\ops\\init_ops.py:1251: calling VarianceScaling.__init__ (from tensorflow.python.ops.init_ops) with dtype is deprecated and will be removed in a future version.\n",
      "Instructions for updating:\n",
      "Call initializer instance with the dtype argument instead of passing it to the constructor\n",
      "Model is Going to Train.....\n"
     ]
    }
   ],
   "source": [
    "\n",
    "model = LeNet(48, 48, 1, len(trainLabels[0]))\n",
    "model.compile(loss = \"binary_crossentropy\", optimizer=\"adam\", metrics=[\"accuracy\"])\n",
    "print(\"Model is Going to Train.....\")\n",
    "#H = model.fit_generator(augmentation.flow(trainImage, trainLabels, batch_size = 32), validation_data=(valImage, valLabels), steps_per_epoch=len(trainImage)//32, epochs=10, verbose=1)             \n"
   ]
  },
  {
   "cell_type": "code",
   "execution_count": null,
   "metadata": {},
   "outputs": [],
   "source": []
  },
  {
   "cell_type": "code",
   "execution_count": null,
   "metadata": {},
   "outputs": [],
   "source": []
  },
  {
   "cell_type": "code",
   "execution_count": null,
   "metadata": {},
   "outputs": [],
   "source": []
  },
  {
   "cell_type": "code",
   "execution_count": 25,
   "metadata": {},
   "outputs": [],
   "source": [
    "### Live Emotion Prediction"
   ]
  },
  {
   "cell_type": "code",
   "execution_count": 26,
   "metadata": {},
   "outputs": [],
   "source": [
    "Emotion = [\"Angry\" , \"Disgust\" , \"Fear\" , \"Happy\" , \"Sad\", \"Surprise\" , \"Neutral\" ]"
   ]
  },
  {
   "cell_type": "code",
   "execution_count": 27,
   "metadata": {},
   "outputs": [],
   "source": [
    "from tensorflow.keras.models import load_model"
   ]
  },
  {
   "cell_type": "code",
   "execution_count": 28,
   "metadata": {},
   "outputs": [],
   "source": [
    "from tensorflow.keras.preprocessing.image import img_to_array , load_img\n"
   ]
  },
  {
   "cell_type": "code",
   "execution_count": 29,
   "metadata": {},
   "outputs": [
    {
     "name": "stdout",
     "output_type": "stream",
     "text": [
      "WARNING:tensorflow:Error in loading the saved optimizer state. As a result, your model is starting with a freshly initialized optimizer.\n"
     ]
    }
   ],
   "source": [
    "loaded_model = load_model(\"facial_emaotion_model.hdf5\")"
   ]
  },
  {
   "cell_type": "code",
   "execution_count": null,
   "metadata": {},
   "outputs": [
    {
     "name": "stdout",
     "output_type": "stream",
     "text": [
      "Angry  0.37657958\n",
      "Neutral  0.25612786\n",
      "Happy  0.36225834\n",
      "Happy  0.3929079\n",
      "Happy  0.43252438\n",
      "Happy  0.4600886\n",
      "Happy  0.44554645\n",
      "Happy  0.44233775\n",
      "Happy  0.41787386\n",
      "Happy  0.4454111\n",
      "Happy  0.4144179\n",
      "Happy  0.44135517\n",
      "Happy  0.30163908\n",
      "Happy  0.36632735\n",
      "Happy  0.40689567\n",
      "Happy  0.34360722\n",
      "Sad  0.42295936\n",
      "Happy  0.5121586\n",
      "Happy  0.32462317\n",
      "Happy  0.3205142\n",
      "Happy  0.3367198\n",
      "Happy  0.30839404\n",
      "Angry  0.31014735\n",
      "Angry  0.31265515\n",
      "Angry  0.31970087\n"
     ]
    }
   ],
   "source": [
    "import cv2\n",
    "face_class = cv2.CascadeClassifier(\"haarcascade_frontalface_default.xml\")\n",
    "cam = cv2.VideoCapture(0)\n",
    "while True:\n",
    "    ret, img = cam.read()\n",
    "    gray = cv2.cvtColor(img, cv2.COLOR_BGR2GRAY)\n",
    "    faces = face_class.detectMultiScale(gray, 1.3, 5)\n",
    "\n",
    "    for x,y,w,h in faces:\n",
    "        roi = gray[y:y+h, x:x+w]\n",
    "        roi = cv2.resize(roi, (64,64))\n",
    "        roi = roi.astype(\"float\")/255\n",
    "        roi = img_to_array(roi)\n",
    "        roi = np.expand_dims(roi, axis = 0)\n",
    "        \n",
    "        pred = loaded_model.predict(roi)[0]\n",
    "        prob = np.max(pred)\n",
    "        label = Emotion[pred.argmax()]\n",
    "        Status = label + \"  \" + str(prob)\n",
    "        color = \"\"\n",
    "        if label == \"Happy\":\n",
    "            color = (0,255,0)\n",
    "        else:\n",
    "            color = (0,0,255)\n",
    "            \n",
    "        print(Status)\n",
    "        cv2.rectangle(img, (x,y), (x+w, y+h), color, 2)\n",
    "        cv2.putText(img, Status, (x, y-10), cv2.FONT_HERSHEY_COMPLEX, 0.50, color, 2)\n",
    "\n",
    "    cv2.imshow(\"My Face\", img)\n",
    "    if cv2.waitKey(10) == 13:    \n",
    "        break\n",
    "\n",
    "cv2.destroyAllWindows()"
   ]
  },
  {
   "cell_type": "code",
   "execution_count": null,
   "metadata": {},
   "outputs": [],
   "source": []
  }
 ],
 "metadata": {
  "kernelspec": {
   "display_name": "Python 3",
   "language": "python",
   "name": "python3"
  },
  "language_info": {
   "codemirror_mode": {
    "name": "ipython",
    "version": 3
   },
   "file_extension": ".py",
   "mimetype": "text/x-python",
   "name": "python",
   "nbconvert_exporter": "python",
   "pygments_lexer": "ipython3",
   "version": "3.7.6"
  }
 },
 "nbformat": 4,
 "nbformat_minor": 4
}
